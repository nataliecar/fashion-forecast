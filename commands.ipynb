{
 "cells": [
  {
   "cell_type": "code",
   "execution_count": null,
   "metadata": {},
   "outputs": [],
   "source": [
    "'''\n",
    "Link to Documentation https://instaloader.github.io/index.html\n",
    "\n",
    "RUN IN TERMINAL BEFORE PROCEEDED IN THE 'fashion-forecast' DIRECTORY:\n",
    ">pip3 install instaloader\n",
    "locate where instaloader was downloaded on Ubuntu cd .local/bin\n",
    ">./instaloader -V --no-captions --no-metadata-json --no-profile-pic [profile]\n",
    "ls to see folder files downloiaded to\n",
    "'''"
   ]
  }
 ],
 "metadata": {
  "language_info": {
   "name": "python"
  }
 },
 "nbformat": 4,
 "nbformat_minor": 2
}
