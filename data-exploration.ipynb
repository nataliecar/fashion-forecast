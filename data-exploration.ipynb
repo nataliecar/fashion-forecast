{
 "cells": [
  {
   "cell_type": "code",
   "execution_count": 23,
   "metadata": {},
   "outputs": [],
   "source": [
    "import numpy as np\n",
    "import pandas as pd\n",
    "import os\n",
    "import shutil"
   ]
  },
  {
   "cell_type": "code",
   "execution_count": 24,
   "metadata": {},
   "outputs": [],
   "source": [
    "metadata_df = pd.read_csv('../data/SFS_metadata.csv')"
   ]
  },
  {
   "cell_type": "markdown",
   "metadata": {},
   "source": [
    "### Notes for next class 2-2-23\n",
    "Iterated through the nested folder of images. Assign each image a new name to the dictionary (append string to list & checking the metadata dict). Move the file to a new NON-NESTED directory of images. "
   ]
  },
  {
   "cell_type": "code",
   "execution_count": null,
   "metadata": {},
   "outputs": [],
   "source": [
    "# sort dataframe by username column alphabetically\n",
    "# loop through nested folders and check if name matches next username in the dataframe\n",
    "# sort pic name in dataframe\n",
    "# loop through folder with images, every time pic name is not null and username matches,  \n",
    "#   save a copy of image as username + (*dash*) + pic name in unpack-data folder"
   ]
  },
  {
   "cell_type": "code",
   "execution_count": 25,
   "metadata": {},
   "outputs": [],
   "source": [
    "metadata_df = metadata_df.sort_values(by=['user_name', 'pic_name'])"
   ]
  },
  {
   "cell_type": "code",
   "execution_count": 10,
   "metadata": {},
   "outputs": [
    {
     "data": {
      "text/plain": [
       "'directory = \\'../data/chictopia/\\'\\nfor filename in os.listdir(directory):\\n    f = os.path.join(directory, filename)\\n    if os.path.isfile(f)==False:\\n        bool_df = metadata_df.loc[metadata_df[\\'user_name\\'] == str(filename), \\'user_name\\'].isin([filename])\\n        if not bool_df.empty:\\n            user = \\'../data/chictopia/\\' + filename\\n            for pic in os.listdir(user):\\n                if pic != \\'.DS_Store\\':\\n                    file_to_copy = os.path.abspath(os.path.join(os.path.dirname(os.path.join(f, filename)),\"./\"+pic))\\n                    destination = os.path.abspath(os.path.join(os.path.dirname(f),\"../../unpack-data/\"+filename + \"-\" + pic))\\n                    shutil.copy2(file_to_copy, destination)'"
      ]
     },
     "execution_count": 10,
     "metadata": {},
     "output_type": "execute_result"
    }
   ],
   "source": [
    "directory = 'C:/Users/cardon/OneDrive - Rensselaer Polytechnic Institute/SEM8/RCOS/data/chictopia/'\n",
    "for filename in os.listdir(directory):\n",
    "    f = os.path.join(directory, filename)\n",
    "    if os.path.isfile(f)==False:\n",
    "        bool_df = metadata_df.loc[metadata_df['user_name'] == str(filename), 'user_name'].isin([filename])\n",
    "        if not bool_df.empty:\n",
    "            user = '../data/chictopia/' + filename\n",
    "            for pic in os.listdir(user):\n",
    "                if pic != '.DS_Store':\n",
    "                    file_to_copy = os.path.abspath(os.path.join(os.path.dirname(os.path.join(f, filename)),\"./\"+pic))\n",
    "                    destination = os.path.abspath(os.path.join(os.path.dirname(f),\"../../unpack-data/\"+filename + \"-\" + pic))\n",
    "                    shutil.copy2(file_to_copy, destination)"
   ]
  },
  {
   "cell_type": "code",
   "execution_count": 27,
   "metadata": {},
   "outputs": [
    {
     "name": "stdout",
     "output_type": "stream",
     "text": [
      "            user_name    pic_name                                styles  \\\n",
      "1       000ecstaSY000   75818.jpg                    Chic,Beach,summer,   \n",
      "145680  000ecstaSY000   75819.jpg                   Sexy,Birthday,fall,   \n",
      "0       000ecstaSY000   75820.jpg           Romantic,Fashion Show,fall,   \n",
      "145690         0011zm  129448.jpg                     70s,Other,summer,   \n",
      "145681         0011zm  129449.jpg  Urban,Going Out With Friends,summer,   \n",
      "\n",
      "                                                     tags          location  \\\n",
      "1                               maroon,personal bracelet,    Surat, Gujarat   \n",
      "145680  personal work boots,personal work blazer,perso...    Surat, Gujarat   \n",
      "0                                       deep puple,boots,    Surat, Gujarat   \n",
      "145690                          choise dress,Topshop bag,  Ontario, Ontario   \n",
      "145681       nike shoes,American Apparel pants,Guess top,  Ontario, Ontario   \n",
      "\n",
      "                           time  new_user_name  \n",
      "1       Updated on Aug 04, 2012              0  \n",
      "145680  Updated on Feb 05, 2012              0  \n",
      "0       Updated on Jul 09, 2011              0  \n",
      "145690  Updated on Aug 18, 2014              0  \n",
      "145681  Updated on Jul 01, 2014              0  \n"
     ]
    }
   ],
   "source": [
    "metadata_df['new_user_name'] = 0\n",
    "\n",
    "print(metadata_df.head())"
   ]
  },
  {
   "cell_type": "markdown",
   "metadata": {},
   "source": []
  },
  {
   "cell_type": "code",
   "execution_count": 30,
   "metadata": {},
   "outputs": [],
   "source": [
    "directory2 = '../unpack-data/'\n",
    "for img_name in os.listdir(directory2):\n",
    "    user_name = img_name.split('-')[0]\n",
    "    pic_name = img_name.split('-')[1]\n",
    "    metadata_df.loc[(metadata_df['user_name'] == user_name) & (metadata_df['pic_name'] == pic_name), 'new_user_name'] = img_name\n",
    "    \n",
    "    \n",
    "                    \n",
    "                    \n",
    "# iterate through images in unpack-data\n",
    "# split image name by \"-\", pull username and pic name\n",
    "# look up row using username and picname in SFS_metadata\n",
    "# once row is found, set col \"new_user_name\" equal to image name"
   ]
  },
  {
   "cell_type": "code",
   "execution_count": null,
   "metadata": {},
   "outputs": [],
   "source": [
    "metadata_df.to_csv('SFS_metadata_new.csv', index=False)"
   ]
  }
 ],
 "metadata": {
  "kernelspec": {
   "display_name": "Python 3",
   "language": "python",
   "name": "python3"
  }
 },
 "nbformat": 4,
 "nbformat_minor": 2
}
