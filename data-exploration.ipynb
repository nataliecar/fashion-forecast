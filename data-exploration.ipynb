{
 "cells": [
  {
   "cell_type": "code",
   "execution_count": 1,
   "metadata": {},
   "outputs": [],
   "source": [
    "import numpy as np\n",
    "import pandas as pd\n",
    "import os\n",
    "import shutil"
   ]
  },
  {
   "cell_type": "code",
   "execution_count": 2,
   "metadata": {},
   "outputs": [],
   "source": [
    "metadata_df = pd.read_csv('../data/SFS_metadata.csv')"
   ]
  },
  {
   "cell_type": "code",
   "execution_count": 3,
   "metadata": {},
   "outputs": [],
   "source": [
    "metadata_df = metadata_df.sort_values(by=['user_name', 'pic_name'])"
   ]
  },
  {
   "cell_type": "code",
   "execution_count": 4,
   "metadata": {},
   "outputs": [
    {
     "data": {
      "text/plain": [
       "'\\ndirectory = \\'C:/Users/cardon/OneDrive - Rensselaer Polytechnic Institute/SEM8/RCOS/data/chictopia/\\'\\nfor filename in os.listdir(directory):\\n    f = os.path.join(directory, filename)\\n    if os.path.isfile(f)==False:\\n        bool_df = metadata_df.loc[metadata_df[\\'user_name\\'] == str(filename), \\'user_name\\'].isin([filename])\\n        if not bool_df.empty:\\n            user = \\'../data/chictopia/\\' + filename\\n            for pic in os.listdir(user):\\n                if pic != \\'.DS_Store\\':\\n                    file_to_copy = os.path.abspath(os.path.join(os.path.dirname(os.path.join(f, filename)),\"./\"+pic))\\n                    destination = os.path.abspath(os.path.join(os.path.dirname(f),\"../../unpack-data/\"+filename + \"-\" + pic))\\n                    shutil.copy2(file_to_copy, destination)\\n'"
      ]
     },
     "execution_count": 4,
     "metadata": {},
     "output_type": "execute_result"
    }
   ],
   "source": [
    "# puts all images in nested folders for each user into a separate folder called \"unpack-data of\" just the images\n",
    "# saves each image with a new name in the format of \"username-picname\"\n",
    "'''\n",
    "directory = 'C:/Users/cardon/OneDrive - Rensselaer Polytechnic Institute/SEM8/RCOS/data/chictopia/'\n",
    "for filename in os.listdir(directory):\n",
    "    f = os.path.join(directory, filename)\n",
    "    if os.path.isfile(f)==False:\n",
    "        bool_df = metadata_df.loc[metadata_df['user_name'] == str(filename), 'user_name'].isin([filename])\n",
    "        if not bool_df.empty:\n",
    "            user = '../data/chictopia/' + filename\n",
    "            for pic in os.listdir(user):\n",
    "                if pic != '.DS_Store':\n",
    "                    file_to_copy = os.path.abspath(os.path.join(os.path.dirname(os.path.join(f, filename)),\"./\"+pic))\n",
    "                    destination = os.path.abspath(os.path.join(os.path.dirname(f),\"../../unpack-data/\"+filename + \"-\" + pic))\n",
    "                    shutil.copy2(file_to_copy, destination)\n",
    "'''"
   ]
  },
  {
   "cell_type": "code",
   "execution_count": 5,
   "metadata": {},
   "outputs": [],
   "source": [
    "metadata_df['new_user_name'] = '0'"
   ]
  },
  {
   "cell_type": "markdown",
   "metadata": {},
   "source": []
  },
  {
   "cell_type": "code",
   "execution_count": 6,
   "metadata": {},
   "outputs": [],
   "source": [
    "# adds new column to metadata dataframe which contains a new name for each image in the format of \"username-picname\"\n",
    "directory2 = '../unpack-data/'\n",
    "for img_name in os.listdir(directory2):\n",
    "    user_name = img_name.split('-')[0]\n",
    "    pic_name = img_name.split('-')[1]\n",
    "    metadata_df.loc[(metadata_df['user_name'] == user_name) & (metadata_df['pic_name'] == pic_name), 'new_user_name'] = img_name"
   ]
  },
  {
   "cell_type": "code",
   "execution_count": 7,
   "metadata": {},
   "outputs": [],
   "source": [
    "# creates a new CSV file from modified dataframe\n",
    "metadata_df.to_csv('SFS_metadata_new.csv', index=False)"
   ]
  }
 ],
 "metadata": {
  "kernelspec": {
   "display_name": "Python 3",
   "language": "python",
   "name": "python3"
  },
  "language_info": {
   "codemirror_mode": {
    "name": "ipython",
    "version": 3
   },
   "file_extension": ".py",
   "mimetype": "text/x-python",
   "name": "python",
   "nbconvert_exporter": "python",
   "pygments_lexer": "ipython3",
   "version": "3.8.5"
  }
 },
 "nbformat": 4,
 "nbformat_minor": 2
}
