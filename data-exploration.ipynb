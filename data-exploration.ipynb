{
 "cells": [
  {
   "cell_type": "code",
   "execution_count": 49,
   "metadata": {},
   "outputs": [],
   "source": [
    "import numpy as np\n",
    "import pandas as pd\n",
    "import os\n",
    "import shutil"
   ]
  },
  {
   "cell_type": "code",
   "execution_count": 19,
   "metadata": {},
   "outputs": [
    {
     "data": {
      "text/html": [
       "<div>\n",
       "<style scoped>\n",
       "    .dataframe tbody tr th:only-of-type {\n",
       "        vertical-align: middle;\n",
       "    }\n",
       "\n",
       "    .dataframe tbody tr th {\n",
       "        vertical-align: top;\n",
       "    }\n",
       "\n",
       "    .dataframe thead th {\n",
       "        text-align: right;\n",
       "    }\n",
       "</style>\n",
       "<table border=\"1\" class=\"dataframe\">\n",
       "  <thead>\n",
       "    <tr style=\"text-align: right;\">\n",
       "      <th></th>\n",
       "      <th>user_name</th>\n",
       "      <th>pic_name</th>\n",
       "      <th>styles</th>\n",
       "      <th>tags</th>\n",
       "      <th>location</th>\n",
       "      <th>time</th>\n",
       "    </tr>\n",
       "  </thead>\n",
       "  <tbody>\n",
       "    <tr>\n",
       "      <th>0</th>\n",
       "      <td>000ecstaSY000</td>\n",
       "      <td>75820.jpg</td>\n",
       "      <td>Romantic,Fashion Show,fall,</td>\n",
       "      <td>deep puple,boots,</td>\n",
       "      <td>Surat, Gujarat</td>\n",
       "      <td>Updated on Jul 09, 2011</td>\n",
       "    </tr>\n",
       "    <tr>\n",
       "      <th>1</th>\n",
       "      <td>000ecstaSY000</td>\n",
       "      <td>75818.jpg</td>\n",
       "      <td>Chic,Beach,summer,</td>\n",
       "      <td>maroon,personal bracelet,</td>\n",
       "      <td>Surat, Gujarat</td>\n",
       "      <td>Updated on Aug 04, 2012</td>\n",
       "    </tr>\n",
       "    <tr>\n",
       "      <th>2</th>\n",
       "      <td>0011zm</td>\n",
       "      <td>129462.jpg</td>\n",
       "      <td>Urban,Girls Night Out,spring,</td>\n",
       "      <td>miss 60ty boots,H&amp;M jacket,H&amp;M leggings,Zara s...</td>\n",
       "      <td>Ontario, Ontario</td>\n",
       "      <td>Updated on Apr 15, 2013</td>\n",
       "    </tr>\n",
       "    <tr>\n",
       "      <th>3</th>\n",
       "      <td>0011zm</td>\n",
       "      <td>129468.jpg</td>\n",
       "      <td>Vintage,Movie night,spring,</td>\n",
       "      <td>Urban Outfitters hat,H&amp;M bag,</td>\n",
       "      <td>Ontario, Ontario</td>\n",
       "      <td>Updated on Apr 22, 2010</td>\n",
       "    </tr>\n",
       "    <tr>\n",
       "      <th>4</th>\n",
       "      <td>0011zm</td>\n",
       "      <td>129454.jpg</td>\n",
       "      <td>Leather,Other,summer,</td>\n",
       "      <td>H&amp;M shirt,GoJane bra,H&amp;M pants,</td>\n",
       "      <td>Ontario, Ontario</td>\n",
       "      <td>Updated on Jul 30, 2014</td>\n",
       "    </tr>\n",
       "  </tbody>\n",
       "</table>\n",
       "</div>"
      ],
      "text/plain": [
       "       user_name    pic_name                         styles  \\\n",
       "0  000ecstaSY000   75820.jpg    Romantic,Fashion Show,fall,   \n",
       "1  000ecstaSY000   75818.jpg             Chic,Beach,summer,   \n",
       "2         0011zm  129462.jpg  Urban,Girls Night Out,spring,   \n",
       "3         0011zm  129468.jpg    Vintage,Movie night,spring,   \n",
       "4         0011zm  129454.jpg          Leather,Other,summer,   \n",
       "\n",
       "                                                tags          location  \\\n",
       "0                                  deep puple,boots,    Surat, Gujarat   \n",
       "1                          maroon,personal bracelet,    Surat, Gujarat   \n",
       "2  miss 60ty boots,H&M jacket,H&M leggings,Zara s...  Ontario, Ontario   \n",
       "3                      Urban Outfitters hat,H&M bag,  Ontario, Ontario   \n",
       "4                    H&M shirt,GoJane bra,H&M pants,  Ontario, Ontario   \n",
       "\n",
       "                      time  \n",
       "0  Updated on Jul 09, 2011  \n",
       "1  Updated on Aug 04, 2012  \n",
       "2  Updated on Apr 15, 2013  \n",
       "3  Updated on Apr 22, 2010  \n",
       "4  Updated on Jul 30, 2014  "
      ]
     },
     "execution_count": 19,
     "metadata": {},
     "output_type": "execute_result"
    }
   ],
   "source": [
    "metadata_df = pd.read_csv('../data/SFS_metadata.csv')\n",
    "metadata_df.head()"
   ]
  },
  {
   "cell_type": "code",
   "execution_count": 4,
   "metadata": {},
   "outputs": [
    {
     "name": "stdout",
     "output_type": "stream",
     "text": [
      "Index(['user_name', 'pic_name', 'styles', 'tags', 'location', 'time'], dtype='object')\n"
     ]
    }
   ],
   "source": [
    "#print(metadata_df.columns)\n",
    "#NUM_ROWS = len(metadata_df.index)\n",
    "#new_col = np.zeros(NUM_ROWS)\n",
    "#print(new_col)\n",
    "#metadata_df.insert(2, \"new_pic_name\", new_col, True)\n",
    "print(metadata_df.columns)"
   ]
  },
  {
   "cell_type": "markdown",
   "metadata": {},
   "source": [
    "### Notes for next class 2-2-23\n",
    "Iterated through the nested folder of images. Assign each image a new name to the dictionary (append string to list & checking the metadata dict). Move the file to a new NON-NESTED directory of images. "
   ]
  },
  {
   "cell_type": "code",
   "execution_count": null,
   "metadata": {},
   "outputs": [],
   "source": [
    "# sort dataframe by username column alphabetically\n",
    "# loop through nested folders and check if name matches next username in the dataframe\n",
    "# sort pic name in dataframe\n",
    "# loop through folder with images, every time pic name is not null and username matches,  \n",
    "#   save a copy of image as username + (*dash*) + pic name in unpack-data folder"
   ]
  },
  {
   "cell_type": "code",
   "execution_count": 29,
   "metadata": {},
   "outputs": [
    {
     "name": "stdout",
     "output_type": "stream",
     "text": [
      "<bound method NDFrame.head of             user_name    pic_name                                  styles  \\\n",
      "1       000ecstaSY000   75818.jpg                      Chic,Beach,summer,   \n",
      "145680  000ecstaSY000   75819.jpg                     Sexy,Birthday,fall,   \n",
      "0       000ecstaSY000   75820.jpg             Romantic,Fashion Show,fall,   \n",
      "145690         0011zm  129448.jpg                       70s,Other,summer,   \n",
      "145681         0011zm  129449.jpg    Urban,Going Out With Friends,summer,   \n",
      "...               ...         ...                                     ...   \n",
      "145439       zsanelly     743.jpg           Business Casual,Other,Summer,   \n",
      "145438       zsanelly     744.jpg                  Denim,Shopping,Summer,   \n",
      "292912       zsanelly     745.jpg               Casual,Lunch Date,summer,   \n",
      "145440       zsanelly     746.jpg                  Sexy,Traveling,summer,   \n",
      "145437       zsanelly     747.jpg  Outdoor,Going Out With Friends,summer,   \n",
      "\n",
      "                                                     tags  \\\n",
      "1                               maroon,personal bracelet,   \n",
      "145680  personal work boots,personal work blazer,perso...   \n",
      "0                                       deep puple,boots,   \n",
      "145690                          choise dress,Topshop bag,   \n",
      "145681       nike shoes,American Apparel pants,Guess top,   \n",
      "...                                                   ...   \n",
      "145439                  colorful is fun,Forever 21 pants,   \n",
      "145438                  navy shorts,red top,white wedges,   \n",
      "292912        mustard bag,aquamarine top,dark green belt,   \n",
      "145440                      white,Soak Swimwear swimwear,   \n",
      "145437                                             dress,   \n",
      "\n",
      "                       location                     time  \n",
      "1                Surat, Gujarat  Updated on Aug 04, 2012  \n",
      "145680           Surat, Gujarat  Updated on Feb 05, 2012  \n",
      "0                Surat, Gujarat  Updated on Jul 09, 2011  \n",
      "145690         Ontario, Ontario  Updated on Aug 18, 2014  \n",
      "145681         Ontario, Ontario  Updated on Jul 01, 2014  \n",
      "...                         ...                      ...  \n",
      "145439  Philippines,, Singapore  Updated on Dec 28, 2013  \n",
      "145438  Philippines,, Singapore  Updated on May 13, 2012  \n",
      "292912  Philippines,, Singapore  Updated on May 09, 2012  \n",
      "145440  Philippines,, Singapore  Updated on Feb 12, 2013  \n",
      "145437  Philippines,, Singapore  Updated on Apr 30, 2012  \n",
      "\n",
      "[293105 rows x 6 columns]>\n"
     ]
    }
   ],
   "source": [
    "metadata_df = metadata_df.sort_values(by=['user_name', 'pic_name'])\n",
    "print(metadata_df.head)"
   ]
  },
  {
   "cell_type": "code",
   "execution_count": 66,
   "metadata": {},
   "outputs": [],
   "source": [
    "counter = 0\n",
    "directory = '../data/chictopia/'\n",
    "for filename in os.listdir(directory):\n",
    "    f = os.path.join(directory, filename)\n",
    "    if os.path.isfile(f)==False:\n",
    "        bool_df = metadata_df.loc[metadata_df['user_name'] == str(filename), 'user_name'].isin([filename])\n",
    "        if not bool_df.empty:\n",
    "            user = '../data/chictopia/' + filename\n",
    "            for pic in os.listdir(user):\n",
    "                if pic != '.DS_Store':\n",
    "                    file_to_copy = os.path.abspath(os.path.join(os.path.dirname(os.path.join(f, filename)),\"./\"+pic))\n",
    "                    destination = os.path.abspath(os.path.join(os.path.dirname(f),\"../../unpack-data/\"+filename + \"-\" + pic))\n",
    "                    shutil.copy2(file_to_copy, destination)\n",
    "            \n",
    "    if counter == 5:\n",
    "        break\n",
    "    counter += 1"
   ]
  }
 ],
 "metadata": {
  "kernelspec": {
   "display_name": "Python 3",
   "language": "python",
   "name": "python3"
  },
  "language_info": {
   "codemirror_mode": {
    "name": "ipython",
    "version": 3
   },
   "file_extension": ".py",
   "mimetype": "text/x-python",
   "name": "python",
   "nbconvert_exporter": "python",
   "pygments_lexer": "ipython3",
   "version": "3.12.1"
  }
 },
 "nbformat": 4,
 "nbformat_minor": 2
}
