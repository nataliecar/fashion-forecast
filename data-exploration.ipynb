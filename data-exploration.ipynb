{
 "cells": [
  {
   "cell_type": "code",
   "execution_count": 8,
   "metadata": {},
   "outputs": [],
   "source": [
    "import numpy as np\n",
    "import pandas as pd"
   ]
  },
  {
   "cell_type": "code",
   "execution_count": 14,
   "metadata": {},
   "outputs": [
    {
     "data": {
      "text/html": [
       "<div>\n",
       "<style scoped>\n",
       "    .dataframe tbody tr th:only-of-type {\n",
       "        vertical-align: middle;\n",
       "    }\n",
       "\n",
       "    .dataframe tbody tr th {\n",
       "        vertical-align: top;\n",
       "    }\n",
       "\n",
       "    .dataframe thead th {\n",
       "        text-align: right;\n",
       "    }\n",
       "</style>\n",
       "<table border=\"1\" class=\"dataframe\">\n",
       "  <thead>\n",
       "    <tr style=\"text-align: right;\">\n",
       "      <th></th>\n",
       "      <th>user_name</th>\n",
       "      <th>pic_name</th>\n",
       "      <th>styles</th>\n",
       "      <th>tags</th>\n",
       "      <th>location</th>\n",
       "      <th>time</th>\n",
       "    </tr>\n",
       "  </thead>\n",
       "  <tbody>\n",
       "    <tr>\n",
       "      <th>0</th>\n",
       "      <td>000ecstaSY000</td>\n",
       "      <td>75820.jpg</td>\n",
       "      <td>Romantic,Fashion Show,fall,</td>\n",
       "      <td>deep puple,boots,</td>\n",
       "      <td>Surat, Gujarat</td>\n",
       "      <td>Updated on Jul 09, 2011</td>\n",
       "    </tr>\n",
       "    <tr>\n",
       "      <th>1</th>\n",
       "      <td>000ecstaSY000</td>\n",
       "      <td>75818.jpg</td>\n",
       "      <td>Chic,Beach,summer,</td>\n",
       "      <td>maroon,personal bracelet,</td>\n",
       "      <td>Surat, Gujarat</td>\n",
       "      <td>Updated on Aug 04, 2012</td>\n",
       "    </tr>\n",
       "    <tr>\n",
       "      <th>2</th>\n",
       "      <td>0011zm</td>\n",
       "      <td>129462.jpg</td>\n",
       "      <td>Urban,Girls Night Out,spring,</td>\n",
       "      <td>miss 60ty boots,H&amp;M jacket,H&amp;M leggings,Zara s...</td>\n",
       "      <td>Ontario, Ontario</td>\n",
       "      <td>Updated on Apr 15, 2013</td>\n",
       "    </tr>\n",
       "    <tr>\n",
       "      <th>3</th>\n",
       "      <td>0011zm</td>\n",
       "      <td>129468.jpg</td>\n",
       "      <td>Vintage,Movie night,spring,</td>\n",
       "      <td>Urban Outfitters hat,H&amp;M bag,</td>\n",
       "      <td>Ontario, Ontario</td>\n",
       "      <td>Updated on Apr 22, 2010</td>\n",
       "    </tr>\n",
       "    <tr>\n",
       "      <th>4</th>\n",
       "      <td>0011zm</td>\n",
       "      <td>129454.jpg</td>\n",
       "      <td>Leather,Other,summer,</td>\n",
       "      <td>H&amp;M shirt,GoJane bra,H&amp;M pants,</td>\n",
       "      <td>Ontario, Ontario</td>\n",
       "      <td>Updated on Jul 30, 2014</td>\n",
       "    </tr>\n",
       "  </tbody>\n",
       "</table>\n",
       "</div>"
      ],
      "text/plain": [
       "       user_name    pic_name                         styles  \\\n",
       "0  000ecstaSY000   75820.jpg    Romantic,Fashion Show,fall,   \n",
       "1  000ecstaSY000   75818.jpg             Chic,Beach,summer,   \n",
       "2         0011zm  129462.jpg  Urban,Girls Night Out,spring,   \n",
       "3         0011zm  129468.jpg    Vintage,Movie night,spring,   \n",
       "4         0011zm  129454.jpg          Leather,Other,summer,   \n",
       "\n",
       "                                                tags          location  \\\n",
       "0                                  deep puple,boots,    Surat, Gujarat   \n",
       "1                          maroon,personal bracelet,    Surat, Gujarat   \n",
       "2  miss 60ty boots,H&M jacket,H&M leggings,Zara s...  Ontario, Ontario   \n",
       "3                      Urban Outfitters hat,H&M bag,  Ontario, Ontario   \n",
       "4                    H&M shirt,GoJane bra,H&M pants,  Ontario, Ontario   \n",
       "\n",
       "                      time  \n",
       "0  Updated on Jul 09, 2011  \n",
       "1  Updated on Aug 04, 2012  \n",
       "2  Updated on Apr 15, 2013  \n",
       "3  Updated on Apr 22, 2010  \n",
       "4  Updated on Jul 30, 2014  "
      ]
     },
     "execution_count": 14,
     "metadata": {},
     "output_type": "execute_result"
    }
   ],
   "source": [
    "metadata_df = pd.read_csv('../data/SFS_metadata.csv')\n",
    "metadata_df.head()"
   ]
  },
  {
   "cell_type": "code",
   "execution_count": 18,
   "metadata": {},
   "outputs": [
    {
     "name": "stdout",
     "output_type": "stream",
     "text": [
      "Index(['user_name', 'pic_name', 'styles', 'tags', 'location', 'time'], dtype='object')\n",
      "[0. 0. 0. ... 0. 0. 0.]\n",
      "Index(['user_name', 'pic_name', 'new_pic_name', 'styles', 'tags', 'location',\n",
      "       'time'],\n",
      "      dtype='object')\n"
     ]
    }
   ],
   "source": [
    "print(metadata_df.columns)\n",
    "NUM_ROWS = len(metadata_df.index)\n",
    "new_col = np.zeros(NUM_ROWS)\n",
    "print(new_col)\n",
    "metadata_df.insert(2, \"new_pic_name\", new_col, True)\n",
    "print(metadata_df.columns)"
   ]
  },
  {
   "cell_type": "markdown",
   "metadata": {},
   "source": [
    "### Notes for next class 2-2-23\n",
    "Iterated through the nested folder of images. Assign each image a new name to the dictionary (append string to list & checking the metadata dict). Move the file to a new NON-NESTED directory of images. "
   ]
  }
 ],
 "metadata": {
  "kernelspec": {
   "display_name": "Python 3",
   "language": "python",
   "name": "python3"
  },
  "language_info": {
   "codemirror_mode": {
    "name": "ipython",
    "version": 3
   },
   "file_extension": ".py",
   "mimetype": "text/x-python",
   "name": "python",
   "nbconvert_exporter": "python",
   "pygments_lexer": "ipython3",
   "version": "3.8.5"
  }
 },
 "nbformat": 4,
 "nbformat_minor": 2
}
