{
 "cells": [
  {
   "cell_type": "code",
   "execution_count": 16,
   "metadata": {},
   "outputs": [],
   "source": [
    "import numpy as np\n",
    "import pandas as pd\n",
    "import os\n",
    "import shutil\n",
    "import cv2\n",
    "from matplotlib import pyplot as plt\n",
    "import math"
   ]
  },
  {
   "cell_type": "code",
   "execution_count": 2,
   "metadata": {},
   "outputs": [],
   "source": [
    "metadata_df = pd.read_csv('../data/SFS_metadata.csv')"
   ]
  },
  {
   "cell_type": "code",
   "execution_count": 3,
   "metadata": {},
   "outputs": [],
   "source": [
    "metadata_df = metadata_df.sort_values(by=['user_name', 'pic_name'])"
   ]
  },
  {
   "cell_type": "code",
   "execution_count": 4,
   "metadata": {},
   "outputs": [
    {
     "data": {
      "text/plain": [
       "'\\ndirectory = \\'C:/Users/cardon/OneDrive - Rensselaer Polytechnic Institute/SEM8/RCOS/data/chictopia/\\'\\nfor filename in os.listdir(directory):\\n    f = os.path.join(directory, filename)\\n    if os.path.isfile(f)==False:\\n        bool_df = metadata_df.loc[metadata_df[\\'user_name\\'] == str(filename), \\'user_name\\'].isin([filename])\\n        if not bool_df.empty:\\n            user = \\'../data/chictopia/\\' + filename\\n            for pic in os.listdir(user):\\n                if pic != \\'.DS_Store\\':\\n                    file_to_copy = os.path.abspath(os.path.join(os.path.dirname(os.path.join(f, filename)),\"./\"+pic))\\n                    destination = os.path.abspath(os.path.join(os.path.dirname(f),\"../../unpack-data/\"+filename + \"-\" + pic))\\n                    shutil.copy2(file_to_copy, destination)\\n'"
      ]
     },
     "execution_count": 4,
     "metadata": {},
     "output_type": "execute_result"
    }
   ],
   "source": [
    "# puts all images in nested folders for each user into a separate folder called \"unpack-data of\" just the images\n",
    "# saves each image with a new name in the format of \"username-picname\"\n",
    "'''\n",
    "directory = 'C:/Users/cardon/OneDrive - Rensselaer Polytechnic Institute/SEM8/RCOS/data/chictopia/'\n",
    "for filename in os.listdir(directory):\n",
    "    f = os.path.join(directory, filename)\n",
    "    if os.path.isfile(f)==False:\n",
    "        bool_df = metadata_df.loc[metadata_df['user_name'] == str(filename), 'user_name'].isin([filename])\n",
    "        if not bool_df.empty:\n",
    "            user = '../data/chictopia/' + filename\n",
    "            for pic in os.listdir(user):\n",
    "                if pic != '.DS_Store':\n",
    "                    file_to_copy = os.path.abspath(os.path.join(os.path.dirname(os.path.join(f, filename)),\"./\"+pic))\n",
    "                    destination = os.path.abspath(os.path.join(os.path.dirname(f),\"../../unpack-data/\"+filename + \"-\" + pic))\n",
    "                    shutil.copy2(file_to_copy, destination)\n",
    "'''"
   ]
  },
  {
   "cell_type": "code",
   "execution_count": 5,
   "metadata": {},
   "outputs": [],
   "source": [
    "metadata_df['new_user_name'] = '0'"
   ]
  },
  {
   "cell_type": "markdown",
   "metadata": {},
   "source": []
  },
  {
   "cell_type": "code",
   "execution_count": 6,
   "metadata": {},
   "outputs": [],
   "source": [
    "# adds new column to metadata dataframe which contains a new name for each image in the format of \"username-picname\"\n",
    "directory2 = '../unpack-data/'\n",
    "for img_name in os.listdir(directory2):\n",
    "    user_name = img_name.split('-')[0]\n",
    "    pic_name = img_name.split('-')[1]\n",
    "    metadata_df.loc[(metadata_df['user_name'] == user_name) & (metadata_df['pic_name'] == pic_name), 'new_user_name'] = img_name"
   ]
  },
  {
   "cell_type": "code",
   "execution_count": 7,
   "metadata": {},
   "outputs": [],
   "source": [
    "# creates a new CSV file from modified dataframe\n",
    "metadata_df.to_csv('SFS_metadata_new.csv', index=False)"
   ]
  },
  {
   "cell_type": "code",
   "execution_count": 35,
   "metadata": {},
   "outputs": [
    {
     "name": "stderr",
     "output_type": "stream",
     "text": [
      "C:\\Users\\bommuc\\AppData\\Local\\Temp\\ipykernel_24304\\1312560639.py:10: FutureWarning: A value is trying to be set on a copy of a DataFrame or Series through chained assignment using an inplace method.\n",
      "The behavior will change in pandas 3.0. This inplace method will never work because the intermediate object on which we are setting values always behaves as a copy.\n",
      "\n",
      "For example, when doing 'df[col].method(value, inplace=True)', try using 'df.method({col: value}, inplace=True)' or df[col] = df[col].method(value) instead, to perform the operation inplace on the original object.\n",
      "\n",
      "\n",
      "  metadata_df['styles'].fillna('', inplace=True)\n"
     ]
    }
   ],
   "source": [
    "# in new_username column remove all rows where value is 0\n",
    "    # convert to dictionary - remove all zeros, convert back to dataframe\n",
    "# for styles column separate list of styles into separate lowercase descriptions and turn into a list and then count how many of each descrption there are\n",
    "    # loop through styles column use .lower() and .split(), use dictionary to count\n",
    "\n",
    "# BEFORE YOU RUN THIS PLEASE MANUALLY CHANGE COLUMN NAME 'new_user_name' to 'new_pic_name' !!!!\n",
    "metadata_df = pd.read_csv(\"SFS_metadata_new.csv\")\n",
    "metadata_df['styles'].fillna('', inplace=True)"
   ]
  },
  {
   "cell_type": "code",
   "execution_count": 37,
   "metadata": {},
   "outputs": [],
   "source": [
    "metadata_dict = metadata_df.to_dict()"
   ]
  },
  {
   "cell_type": "code",
   "execution_count": 38,
   "metadata": {},
   "outputs": [],
   "source": [
    "# for every value in new_pic_name column, if val != 0, add the {idx key: row val} to every column key\n",
    "new_metadata_dict = {}\n",
    "for col in metadata_dict.keys():\n",
    "    new_metadata_dict[col]={} \n",
    "\n",
    "keys = list(metadata_dict['new_pic_name'].keys())\n",
    "i = 0\n",
    "while i < len(keys):\n",
    "    key = keys[i]\n",
    "    #print(key)\n",
    "    val = metadata_dict['new_pic_name'][key]\n",
    "    #print(key, val)\n",
    "    if val != '0':\n",
    "        for k in metadata_dict.keys():\n",
    "            new_metadata_dict[k][key] = metadata_dict[k][key]\n",
    "    i += 1\n",
    "\n",
    "metadata_df = pd.DataFrame(data=new_metadata_dict)"
   ]
  },
  {
   "cell_type": "code",
   "execution_count": 39,
   "metadata": {},
   "outputs": [],
   "source": [
    "metadata_df.to_csv('SFS_metadata_new2.csv', index=False)"
   ]
  },
  {
   "cell_type": "code",
   "execution_count": 73,
   "metadata": {},
   "outputs": [],
   "source": [
    "style_keys = list(new_metadata_dict['styles'].keys())\n",
    "styles_dict = {}\n",
    "filtered_styles_dict = {}\n",
    "i = 0\n",
    "while i < len(style_keys):\n",
    "    key = style_keys[i]\n",
    "    vals = metadata_dict['styles'][key].lower().strip(',').split(',')\n",
    "    for val in vals:\n",
    "        if val in styles_dict:\n",
    "            styles_dict[val] += 1\n",
    "        else:\n",
    "            styles_dict[val] = 1\n",
    "        if val in ['spring', 'summer', 'fall', 'winter']:\n",
    "            if vals.count('spring') + vals.count('summer') + vals.count('fall') + vals.count('winter') == 1:\n",
    "                num = 0\n",
    "                if val == 'summer':\n",
    "                    num = 1\n",
    "                elif val == 'fall':\n",
    "                    num = 2\n",
    "                elif val == 'winter':\n",
    "                    num = 3\n",
    "                filtered_styles_dict[metadata_dict['new_pic_name'][key]] = num\n",
    "            else:\n",
    "                print(metadata_dict['new_pic_name'][key])\n",
    "    i += 1"
   ]
  },
  {
   "cell_type": "code",
   "execution_count": 68,
   "metadata": {},
   "outputs": [],
   "source": [
    "style_stats_df = pd.DataFrame(data=styles_dict.items(), columns=['style', 'count'])\n",
    "style_stats_df = style_stats_df.sort_values(by='count', ascending=False)\n",
    "style_stats_df.to_csv('style_stats.csv', index=False)"
   ]
  },
  {
   "cell_type": "code",
   "execution_count": 74,
   "metadata": {},
   "outputs": [],
   "source": [
    "filtered_style_stats_df = pd.DataFrame(data=filtered_styles_dict.items(), columns=['new_pic_name', 'style'])\n",
    "filtered_style_stats_df.to_csv('filtered_style_stats.csv', index=False)"
   ]
  },
  {
   "cell_type": "code",
   "execution_count": 3,
   "metadata": {},
   "outputs": [],
   "source": [
    "names = [ 'person', 'bicycle', 'car', 'motorcycle', 'airplane', 'bus', 'train', 'truck', 'boat', 'traffic light', \n",
    "         'fire hydrant', 'stop sign', 'parking meter', 'bench', 'bird', 'cat', 'dog', 'horse', 'sheep', 'cow',\n",
    "         'elephant', 'bear', 'zebra', 'giraffe', 'backpack', 'umbrella', 'handbag', 'tie', 'suitcase', 'frisbee',\n",
    "         'skis', 'snowboard', 'sports ball', 'kite', 'baseball bat', 'baseball glove', 'skateboard', 'surfboard',\n",
    "         'tennis racket', 'bottle', 'wine glass', 'cup', 'fork', 'knife', 'spoon', 'bowl', 'banana', 'apple',\n",
    "         'sandwich', 'orange', 'broccoli', 'carrot', 'hot dog', 'pizza', 'donut', 'cake', 'chair', 'couch',\n",
    "         'potted plant', 'bed', 'dining table', 'toilet', 'tv', 'laptop', 'mouse', 'remote', 'keyboard', 'cell phone',\n",
    "         'microwave', 'oven', 'toaster', 'sink', 'refrigerator', 'book', 'clock', 'vase', 'scissors', 'teddy bear',\n",
    "         'hair drier', 'toothbrush' ]  # class names"
   ]
  },
  {
   "cell_type": "code",
   "execution_count": 51,
   "metadata": {},
   "outputs": [],
   "source": [
    "directory3 = './yolov5/yolov5-master/runs/detect/exp2/labels/'\n",
    "yolo_dict = {'image':[], 'class index':[], 'class name':[], 'xmin':[], 'ymin':[], 'xmax':[], 'ymax':[]}\n",
    "\n",
    "for img_name in os.listdir(directory3):\n",
    "    file = open('./yolov5/yolov5-master/runs/detect/exp2/labels/'+img_name, \"r\")\n",
    "    while True:\n",
    "        content = file.readline()\n",
    "        if not content:\n",
    "            break\n",
    "        items = content.strip().split(' ')\n",
    "        items[0] = int(items[0])\n",
    "        for j in range(1, len(items)):\n",
    "            items[j] = float(items[j])\n",
    "        yolo_dict['image'].append(img_name[0:-4])\n",
    "        yolo_dict['class index'].append(items[0])\n",
    "        yolo_dict['class name'].append(names[items[0]])\n",
    "        im = cv2.imread('./yolov5/yolov5-master/runs/detect/exp2/' + img_name[0:-4] + '.jpg')\n",
    "        w, h, c = im.shape\n",
    "        ycenter = items[1] * h\n",
    "        xcenter = items[2] * w\n",
    "        height = items[3] * h\n",
    "        width = items[4] * w\n",
    "        \n",
    "        xmin = int(math.floor(xcenter - (width / 2)))\n",
    "        ymin = int(math.floor(ycenter - (height / 2)))\n",
    "        xmax = int(math.ceil(xcenter + (width / 2)))\n",
    "        ymax = int(math.ceil(ycenter + (height / 2)))\n",
    "        \n",
    "        yolo_dict['xmin'].append(xmin)\n",
    "        yolo_dict['ymin'].append(ymin)\n",
    "        yolo_dict['xmax'].append(xmax)\n",
    "        yolo_dict['ymax'].append(ymax)\n",
    "        \n",
    "    file.close()"
   ]
  },
  {
   "cell_type": "code",
   "execution_count": 43,
   "metadata": {},
   "outputs": [],
   "source": [
    "yolo_df = pd.DataFrame.from_dict(yolo_dict)\n",
    "yolo_df.to_csv('yolov5_labels.csv', index=False)"
   ]
  },
  {
   "cell_type": "code",
   "execution_count": null,
   "metadata": {},
   "outputs": [],
   "source": []
  }
 ],
 "metadata": {
  "kernelspec": {
   "display_name": "Python 3",
   "language": "python",
   "name": "python3"
  },
  "language_info": {
   "codemirror_mode": {
    "name": "ipython",
    "version": 3
   },
   "file_extension": ".py",
   "mimetype": "text/x-python",
   "name": "python",
   "nbconvert_exporter": "python",
   "pygments_lexer": "ipython3",
   "version": "3.12.1"
  }
 },
 "nbformat": 4,
 "nbformat_minor": 2
}
